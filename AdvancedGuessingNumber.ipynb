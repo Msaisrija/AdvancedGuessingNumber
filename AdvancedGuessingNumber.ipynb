{
 "cells": [
  {
   "cell_type": "code",
   "execution_count": 1,
   "id": "470d4309-e3ba-4d21-86fc-9782193d24a8",
   "metadata": {},
   "outputs": [
    {
     "name": "stdout",
     "output_type": "stream",
     "text": [
      "30\n"
     ]
    },
    {
     "name": "stdin",
     "output_type": "stream",
     "text": [
      "Enter the number of attempts you wish for:  5\n",
      "Enter a number between 1 and 50:  10\n"
     ]
    },
    {
     "name": "stdout",
     "output_type": "stream",
     "text": [
      "You're warm, but your guess is lower!\n",
      "Attempts remaining: 4\n"
     ]
    },
    {
     "name": "stdin",
     "output_type": "stream",
     "text": [
      "Enter a number between 1 and 50:  20\n"
     ]
    },
    {
     "name": "stdout",
     "output_type": "stream",
     "text": [
      "You're warm, but your guess is lower!\n",
      "Attempts remaining: 3\n"
     ]
    },
    {
     "name": "stdin",
     "output_type": "stream",
     "text": [
      "Enter a number between 1 and 50:  40\n"
     ]
    },
    {
     "name": "stdout",
     "output_type": "stream",
     "text": [
      "You're warm, but your guess is higher!\n",
      "Attempts remaining: 2\n"
     ]
    },
    {
     "name": "stdin",
     "output_type": "stream",
     "text": [
      "Enter a number between 1 and 50:  30\n"
     ]
    },
    {
     "name": "stdout",
     "output_type": "stream",
     "text": [
      "Correct guess! Congratulations, you won!\n"
     ]
    }
   ],
   "source": [
    "import random  # Import the random module to generate random numbers\n",
    "\n",
    "def guessing_number():\n",
    "    # Generate a random number between 1 and 100\n",
    "    number = random.randint(1,50)\n",
    "    # Ask the user how many attempts they want\n",
    "    attempts = int(input(\"Enter the number of attempts you wish for: \"))\n",
    "\n",
    "    # Loop until the user runs out of attempts or guesses the number correctly\n",
    "    while attempts > 0:\n",
    "        # Ask the user to guess a number between 1 and 100\n",
    "        guessNumber = int(input(\"Enter a number between 1 and 50: \"))\n",
    "        \n",
    "        # Check if the guess is correct\n",
    "        if guessNumber == number:\n",
    "            print(\"Correct guess! Congratulations, you won!\")\n",
    "            break  # Exit the loop if the user guesses correctly\n",
    "        \n",
    "        # If the guessed number is greater than the random number\n",
    "        elif guessNumber > number:\n",
    "            print(\"You're warm, but your guess is higher!\")  # Hint: guess lower\n",
    "        \n",
    "        # If the guessed number is less than the random number\n",
    "        else:\n",
    "            print(\"You're warm, but your guess is lower!\")  # Hint: guess higher\n",
    "        \n",
    "        # Decrement the number of attempts left\n",
    "        attempts -= 1\n",
    "        \n",
    "        # If no attempts are left, the game is over\n",
    "        if attempts == 0:\n",
    "            print(\"Game over! You've used all your attempts.\")\n",
    "            print(\"The correct number was:\", number)\n",
    "        else:\n",
    "            # Inform the user how many attempts are remaining\n",
    "            print(\"Attempts remaining:\", attempts)\n",
    "\n",
    "# Call the function to start the game\n",
    "guessing_number()\n"
   ]
  },
  {
   "cell_type": "code",
   "execution_count": null,
   "id": "42c40f18-2103-43ad-81db-272bdbc53c30",
   "metadata": {},
   "outputs": [],
   "source": []
  },
  {
   "cell_type": "code",
   "execution_count": null,
   "id": "1bf39fdb-33cb-42cd-beae-1e0945a8aa71",
   "metadata": {},
   "outputs": [],
   "source": []
  }
 ],
 "metadata": {
  "kernelspec": {
   "display_name": "Python 3 (ipykernel)",
   "language": "python",
   "name": "python3"
  },
  "language_info": {
   "codemirror_mode": {
    "name": "ipython",
    "version": 3
   },
   "file_extension": ".py",
   "mimetype": "text/x-python",
   "name": "python",
   "nbconvert_exporter": "python",
   "pygments_lexer": "ipython3",
   "version": "3.12.4"
  }
 },
 "nbformat": 4,
 "nbformat_minor": 5
}
